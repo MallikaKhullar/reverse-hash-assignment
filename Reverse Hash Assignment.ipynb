{
 "cells": [
  {
   "cell_type": "code",
   "execution_count": 130,
   "metadata": {
    "collapsed": true
   },
   "outputs": [],
   "source": [
    "import sys\n",
    "letters = \"acdegilmnoprstuw\""
   ]
  },
  {
   "cell_type": "markdown",
   "metadata": {},
   "source": [
    "## HASH FUNCTION AS GIVEN"
   ]
  },
  {
   "cell_type": "code",
   "execution_count": 131,
   "metadata": {},
   "outputs": [],
   "source": [
    "def hash(s):\n",
    "    h = 7\n",
    "    for i, val in enumerate(s):\n",
    "        try:\n",
    "            h = (h * 37 + letters.index(val))\n",
    "        except ValueError:\n",
    "            return -1\n",
    "    return h\n",
    "\n",
    "def print_hash(s):\n",
    "    sys.stdout.write(\"Hash(\" + s  + \") = \" + str(hash(s)) + \"\\n\")\n"
   ]
  },
  {
   "cell_type": "code",
   "execution_count": 132,
   "metadata": {},
   "outputs": [
    {
     "name": "stdout",
     "output_type": "stream",
     "text": [
      "Hash(cage) = 13169931\n",
      "Hash(leepadg) = 680131659347\n",
      "Hash(mallika) = -1\n",
      "Hash(lawnmower) = 930846109532517\n",
      "Hash(worstest) = 26035211808635\n"
     ]
    }
   ],
   "source": [
    "print_hash('cage')\n",
    "print_hash('leepadg')\n",
    "print_hash('mallika')\n",
    "print_hash('lawnmower')\n",
    "print_hash('worstest')"
   ]
  },
  {
   "cell_type": "markdown",
   "metadata": {},
   "source": [
    "## REVERSE HASH ASSIGNMENT"
   ]
  },
  {
   "cell_type": "code",
   "execution_count": 142,
   "metadata": {
    "collapsed": true
   },
   "outputs": [],
   "source": [
    "def reverse_hash(hash):\n",
    "    print \"Hash =>\", hash\n",
    "    orig = \"\"\n",
    "    while hash > 7:\n",
    "        rem = int(hash % 37)\n",
    "        hash = float(hash-rem)/ 37\n",
    "        orig += letters[rem]\n",
    "    print \"Original =>\",orig[::-1], \"\\n\""
   ]
  },
  {
   "cell_type": "code",
   "execution_count": 143,
   "metadata": {},
   "outputs": [
    {
     "name": "stdout",
     "output_type": "stream",
     "text": [
      "Hash => 680131659347\n",
      "Original => leepadg \n",
      "\n",
      "Hash => 930846109532517\n",
      "Original => lawnmower \n",
      "\n",
      "Hash => 26035211808635\n",
      "Original => worstest \n",
      "\n"
     ]
    }
   ],
   "source": [
    "reverse_hash(680131659347)\n",
    "reverse_hash(930846109532517)\n",
    "reverse_hash(26035211808635)"
   ]
  },
  {
   "cell_type": "code",
   "execution_count": null,
   "metadata": {
    "collapsed": true
   },
   "outputs": [],
   "source": []
  },
  {
   "cell_type": "code",
   "execution_count": null,
   "metadata": {
    "collapsed": true
   },
   "outputs": [],
   "source": []
  }
 ],
 "metadata": {
  "kernelspec": {
   "display_name": "Python 2",
   "language": "python",
   "name": "python2"
  },
  "language_info": {
   "codemirror_mode": {
    "name": "ipython",
    "version": 2
   },
   "file_extension": ".py",
   "mimetype": "text/x-python",
   "name": "python",
   "nbconvert_exporter": "python",
   "pygments_lexer": "ipython2",
   "version": "2.7.13"
  }
 },
 "nbformat": 4,
 "nbformat_minor": 2
}
